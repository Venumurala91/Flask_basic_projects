{
  "cells": [
    {
      "cell_type": "markdown",
      "metadata": {
        "id": "view-in-github",
        "colab_type": "text"
      },
      "source": [
        "<a href=\"https://colab.research.google.com/github/Venumurala91/Flask_basic_projects/blob/main/Welcome_To_Colab.ipynb\" target=\"_parent\"><img src=\"https://colab.research.google.com/assets/colab-badge.svg\" alt=\"Open In Colab\"/></a>"
      ]
    },
    {
      "cell_type": "code",
      "source": [],
      "metadata": {
        "id": "qdpzdqswBJH_"
      },
      "execution_count": null,
      "outputs": []
    },
    {
      "cell_type": "code",
      "source": [
        "!git clone https://github.com/Venumurala91/Numpy.git\n"
      ],
      "metadata": {
        "id": "H1Ey_AgrCKIF",
        "outputId": "b7785a11-4b16-452e-c54d-270675f0f11a",
        "colab": {
          "base_uri": "https://localhost:8080/"
        }
      },
      "execution_count": 2,
      "outputs": [
        {
          "output_type": "stream",
          "name": "stdout",
          "text": [
            "Cloning into 'Numpy'...\n",
            "remote: Enumerating objects: 37, done.\u001b[K\n",
            "remote: Counting objects: 100% (37/37), done.\u001b[K\n",
            "remote: Compressing objects: 100% (28/28), done.\u001b[K\n",
            "remote: Total 37 (delta 15), reused 24 (delta 8), pack-reused 0 (from 0)\u001b[K\n",
            "Receiving objects: 100% (37/37), 24.15 KiB | 12.08 MiB/s, done.\n",
            "Resolving deltas: 100% (15/15), done.\n"
          ]
        }
      ]
    },
    {
      "cell_type": "markdown",
      "source": [
        "git *italicized text*"
      ],
      "metadata": {
        "id": "RP1GjGYEDdgU"
      }
    },
    {
      "cell_type": "code",
      "source": [
        "import pandas as pd\n",
        "\n",
        "df={\"name\":[\"a\",\"b\",\"C\"]}\n",
        "print(pd.DataFrame(df))\n",
        "\n",
        "\n",
        "\n",
        "!git add .config/Pandas\\ Practice\\ day2\n"
      ],
      "metadata": {
        "id": "bXtsCfUOBv5V",
        "outputId": "85c0bfa6-fec0-466d-a57a-c5d92aa57cd1",
        "colab": {
          "base_uri": "https://localhost:8080/"
        }
      },
      "execution_count": 10,
      "outputs": [
        {
          "output_type": "stream",
          "name": "stdout",
          "text": [
            "  name\n",
            "0    a\n",
            "1    b\n",
            "2    C\n",
            "fatal: not a git repository (or any of the parent directories): .git\n"
          ]
        }
      ]
    }
  ],
  "metadata": {
    "colab": {
      "name": "Welcome To Colab",
      "provenance": [],
      "include_colab_link": true
    },
    "kernelspec": {
      "display_name": "Python 3",
      "name": "python3"
    }
  },
  "nbformat": 4,
  "nbformat_minor": 0
}